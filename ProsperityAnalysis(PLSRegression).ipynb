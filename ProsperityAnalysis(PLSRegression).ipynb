{
 "cells": [
  {
   "cell_type": "code",
   "execution_count": 1,
   "metadata": {},
   "outputs": [],
   "source": [
    "import numpy as np\n",
    "import pandas as pd\n",
    "import statsmodels.api as sm"
   ]
  },
  {
   "cell_type": "code",
   "execution_count": 136,
   "metadata": {},
   "outputs": [
    {
     "data": {
      "text/html": [
       "<div>\n",
       "<style scoped>\n",
       "    .dataframe tbody tr th:only-of-type {\n",
       "        vertical-align: middle;\n",
       "    }\n",
       "\n",
       "    .dataframe tbody tr th {\n",
       "        vertical-align: top;\n",
       "    }\n",
       "\n",
       "    .dataframe thead th {\n",
       "        text-align: right;\n",
       "    }\n",
       "</style>\n",
       "<table border=\"1\" class=\"dataframe\">\n",
       "  <thead>\n",
       "    <tr style=\"text-align: right;\">\n",
       "      <th></th>\n",
       "      <th>Country</th>\n",
       "      <th>GDP Per Capita</th>\n",
       "      <th>Technology</th>\n",
       "      <th>Human Capital</th>\n",
       "      <th>Institutional Framework</th>\n",
       "      <th>Sustainable Resources</th>\n",
       "      <th>Demand Environment</th>\n",
       "      <th>Education</th>\n",
       "      <th>Happiness</th>\n",
       "      <th>Unemployment Rate</th>\n",
       "      <th>Population</th>\n",
       "      <th>Import Degree</th>\n",
       "      <th>Import Eigenvector</th>\n",
       "      <th>Import Betweenness</th>\n",
       "      <th>Export Degree</th>\n",
       "      <th>Export Eigenvector</th>\n",
       "      <th>Export Betweenness</th>\n",
       "      <th>Location</th>\n",
       "    </tr>\n",
       "  </thead>\n",
       "  <tbody>\n",
       "    <tr>\n",
       "      <th>0</th>\n",
       "      <td>Albania</td>\n",
       "      <td>5260.9</td>\n",
       "      <td>3.40</td>\n",
       "      <td>4.62</td>\n",
       "      <td>4.70</td>\n",
       "      <td>6.19</td>\n",
       "      <td>3.16</td>\n",
       "      <td>1153</td>\n",
       "      <td>4.719</td>\n",
       "      <td>0.120</td>\n",
       "      <td>2880248</td>\n",
       "      <td>0</td>\n",
       "      <td>0.000000</td>\n",
       "      <td>0.000000</td>\n",
       "      <td>0</td>\n",
       "      <td>0.000000</td>\n",
       "      <td>0.000000</td>\n",
       "      <td>Europe</td>\n",
       "    </tr>\n",
       "    <tr>\n",
       "      <th>1</th>\n",
       "      <td>Algeria</td>\n",
       "      <td>4449.8</td>\n",
       "      <td>2.97</td>\n",
       "      <td>3.58</td>\n",
       "      <td>3.60</td>\n",
       "      <td>5.36</td>\n",
       "      <td>5.00</td>\n",
       "      <td>1086</td>\n",
       "      <td>5.211</td>\n",
       "      <td>0.117</td>\n",
       "      <td>43216262</td>\n",
       "      <td>3</td>\n",
       "      <td>0.022113</td>\n",
       "      <td>0.000000</td>\n",
       "      <td>3</td>\n",
       "      <td>0.029143</td>\n",
       "      <td>0.000000</td>\n",
       "      <td>Africa</td>\n",
       "    </tr>\n",
       "    <tr>\n",
       "      <th>2</th>\n",
       "      <td>Argentina</td>\n",
       "      <td>10667.1</td>\n",
       "      <td>3.78</td>\n",
       "      <td>4.94</td>\n",
       "      <td>4.16</td>\n",
       "      <td>5.84</td>\n",
       "      <td>4.99</td>\n",
       "      <td>1187</td>\n",
       "      <td>6.086</td>\n",
       "      <td>0.101</td>\n",
       "      <td>44866075</td>\n",
       "      <td>6</td>\n",
       "      <td>0.043574</td>\n",
       "      <td>0.000000</td>\n",
       "      <td>4</td>\n",
       "      <td>0.038238</td>\n",
       "      <td>0.000000</td>\n",
       "      <td>South America</td>\n",
       "    </tr>\n",
       "    <tr>\n",
       "      <th>3</th>\n",
       "      <td>Armenia</td>\n",
       "      <td>4190.2</td>\n",
       "      <td>3.53</td>\n",
       "      <td>5.07</td>\n",
       "      <td>4.93</td>\n",
       "      <td>5.85</td>\n",
       "      <td>3.68</td>\n",
       "      <td>1345</td>\n",
       "      <td>4.559</td>\n",
       "      <td>0.169</td>\n",
       "      <td>2958996</td>\n",
       "      <td>0</td>\n",
       "      <td>0.000000</td>\n",
       "      <td>0.000000</td>\n",
       "      <td>0</td>\n",
       "      <td>0.000000</td>\n",
       "      <td>0.000000</td>\n",
       "      <td>Middle East</td>\n",
       "    </tr>\n",
       "    <tr>\n",
       "      <th>4</th>\n",
       "      <td>Australia</td>\n",
       "      <td>56698.1</td>\n",
       "      <td>6.91</td>\n",
       "      <td>7.41</td>\n",
       "      <td>8.32</td>\n",
       "      <td>6.47</td>\n",
       "      <td>5.78</td>\n",
       "      <td>1556</td>\n",
       "      <td>7.228</td>\n",
       "      <td>0.052</td>\n",
       "      <td>25265536</td>\n",
       "      <td>20</td>\n",
       "      <td>0.098483</td>\n",
       "      <td>0.003389</td>\n",
       "      <td>21</td>\n",
       "      <td>0.129649</td>\n",
       "      <td>0.003652</td>\n",
       "      <td>Oceania</td>\n",
       "    </tr>\n",
       "  </tbody>\n",
       "</table>\n",
       "</div>"
      ],
      "text/plain": [
       "     Country  GDP Per Capita  Technology  Human Capital  \\\n",
       "0    Albania          5260.9        3.40           4.62   \n",
       "1    Algeria          4449.8        2.97           3.58   \n",
       "2  Argentina         10667.1        3.78           4.94   \n",
       "3    Armenia          4190.2        3.53           5.07   \n",
       "4  Australia         56698.1        6.91           7.41   \n",
       "\n",
       "   Institutional Framework  Sustainable Resources  Demand Environment  \\\n",
       "0                     4.70                   6.19                3.16   \n",
       "1                     3.60                   5.36                5.00   \n",
       "2                     4.16                   5.84                4.99   \n",
       "3                     4.93                   5.85                3.68   \n",
       "4                     8.32                   6.47                5.78   \n",
       "\n",
       "   Education  Happiness  Unemployment Rate  Population  Import Degree  \\\n",
       "0       1153      4.719              0.120     2880248              0   \n",
       "1       1086      5.211              0.117    43216262              3   \n",
       "2       1187      6.086              0.101    44866075              6   \n",
       "3       1345      4.559              0.169     2958996              0   \n",
       "4       1556      7.228              0.052    25265536             20   \n",
       "\n",
       "   Import Eigenvector  Import Betweenness  Export Degree  Export Eigenvector  \\\n",
       "0            0.000000            0.000000              0            0.000000   \n",
       "1            0.022113            0.000000              3            0.029143   \n",
       "2            0.043574            0.000000              4            0.038238   \n",
       "3            0.000000            0.000000              0            0.000000   \n",
       "4            0.098483            0.003389             21            0.129649   \n",
       "\n",
       "   Export Betweenness       Location  \n",
       "0            0.000000         Europe  \n",
       "1            0.000000         Africa  \n",
       "2            0.000000  South America  \n",
       "3            0.000000    Middle East  \n",
       "4            0.003652        Oceania  "
      ]
     },
     "execution_count": 136,
     "metadata": {},
     "output_type": "execute_result"
    }
   ],
   "source": [
    "data = pd.read_csv('C:\\\\Users\\\\Ufuk Altan\\\\Downloads\\\\Downloads\\\\Data Science\\\\I Dati\\\\Prosperity.csv')\n",
    "data.head()"
   ]
  },
  {
   "cell_type": "code",
   "execution_count": 137,
   "metadata": {},
   "outputs": [],
   "source": [
    "log_GPC = np.log(data['GDP Per Capita'])\n",
    "data['Log_GPC'] = log_GPC"
   ]
  },
  {
   "cell_type": "code",
   "execution_count": 138,
   "metadata": {},
   "outputs": [
    {
     "data": {
      "text/plain": [
       "Index(['Country', 'GDP Per Capita', 'Technology', 'Human Capital',\n",
       "       'Institutional Framework', 'Sustainable Resources',\n",
       "       'Demand Environment', 'Education', 'Happiness', 'Unemployment Rate',\n",
       "       'Population', 'Import Degree', 'Import Eigenvector',\n",
       "       'Import Betweenness', 'Export Degree', 'Export Eigenvector',\n",
       "       'Export Betweenness', 'Location', 'Log_GPC'],\n",
       "      dtype='object')"
      ]
     },
     "execution_count": 138,
     "metadata": {},
     "output_type": "execute_result"
    }
   ],
   "source": [
    "data.columns"
   ]
  },
  {
   "cell_type": "code",
   "execution_count": 139,
   "metadata": {},
   "outputs": [],
   "source": [
    "cols = ['Technology', 'Human Capital',\n",
    "       'Institutional Framework', 'Sustainable Resources',\n",
    "       'Demand Environment', 'Education', 'Happiness', 'Unemployment Rate',\n",
    "       'Population', 'Import Degree', 'Import Eigenvector',\n",
    "       'Import Betweenness', 'Export Degree', 'Export Eigenvector',\n",
    "       'Export Betweenness', 'Location','Log_GPC']"
   ]
  },
  {
   "cell_type": "code",
   "execution_count": 140,
   "metadata": {},
   "outputs": [],
   "source": [
    "data = data[cols]"
   ]
  },
  {
   "cell_type": "code",
   "execution_count": 141,
   "metadata": {},
   "outputs": [],
   "source": [
    "X = data.drop('Log_GPC', axis =1)\n",
    "y = data['Log_GPC']"
   ]
  },
  {
   "cell_type": "code",
   "execution_count": 142,
   "metadata": {},
   "outputs": [],
   "source": [
    "X = pd.get_dummies(X)"
   ]
  },
  {
   "cell_type": "code",
   "execution_count": 143,
   "metadata": {},
   "outputs": [],
   "source": [
    "X.drop('Location_Europe', inplace = True, axis =1)"
   ]
  },
  {
   "cell_type": "code",
   "execution_count": 144,
   "metadata": {},
   "outputs": [],
   "source": [
    "from sklearn.model_selection import train_test_split\n",
    "X_train, X_test, y_train, y_test = train_test_split(X, y, random_state=0, test_size=0.2 ) "
   ]
  },
  {
   "cell_type": "code",
   "execution_count": 145,
   "metadata": {},
   "outputs": [],
   "source": [
    "from sklearn.preprocessing import StandardScaler\n",
    "sc = StandardScaler()\n",
    "X_train = sc.fit_transform(X_train)\n",
    "X_test = sc.transform(X_test)"
   ]
  },
  {
   "cell_type": "code",
   "execution_count": 146,
   "metadata": {},
   "outputs": [],
   "source": [
    "from sklearn.cross_decomposition import PLSRegression\n",
    "pls = PLSRegression(n_components=1)\n",
    "pls.fit(X_train, y_train)\n",
    "y_pred = pls.predict(X_test)"
   ]
  },
  {
   "cell_type": "code",
   "execution_count": 147,
   "metadata": {},
   "outputs": [],
   "source": [
    "def percentage_error(dataframe,pred, true_value):\n",
    "    \n",
    "    '''\n",
    "    dataframe: Pass in pandas dataframe variable\n",
    "    pred = dataframe['Predictions'] #model.predict(x_test).reshape()\n",
    "    true_value = dataframe['True Values'] #y_test\n",
    "    \n",
    "    '''\n",
    "    \n",
    "    difference = true_value - pred\n",
    "    \n",
    "    dataframe['Error(%)']= np.absolute(difference/true_value*100)\n",
    "    \n",
    "    print('Average Percentage Error is: {}'.format(dataframe['Error(%)'].mean()))"
   ]
  },
  {
   "cell_type": "code",
   "execution_count": 148,
   "metadata": {},
   "outputs": [],
   "source": [
    "y_test = np.array(y_test)\n",
    "y_test = np.reshape(y_test, (20,))\n",
    "y_pred = np.reshape(y_pred, (20,))"
   ]
  },
  {
   "cell_type": "code",
   "execution_count": 149,
   "metadata": {},
   "outputs": [],
   "source": [
    "test = pd.DataFrame()\n",
    "test['TrueValues'] = y_test\n",
    "test['Predictions'] = y_pred"
   ]
  },
  {
   "cell_type": "code",
   "execution_count": 150,
   "metadata": {},
   "outputs": [],
   "source": [
    "from sklearn.metrics import mean_absolute_error,r2_score"
   ]
  },
  {
   "cell_type": "code",
   "execution_count": 151,
   "metadata": {},
   "outputs": [
    {
     "name": "stdout",
     "output_type": "stream",
     "text": [
      "Average Percentage Error is: 7.147233753712195\n"
     ]
    }
   ],
   "source": [
    "percentage_error(test, test['Predictions'],test['TrueValues'])"
   ]
  },
  {
   "cell_type": "code",
   "execution_count": 152,
   "metadata": {},
   "outputs": [
    {
     "data": {
      "text/html": [
       "<div>\n",
       "<style scoped>\n",
       "    .dataframe tbody tr th:only-of-type {\n",
       "        vertical-align: middle;\n",
       "    }\n",
       "\n",
       "    .dataframe tbody tr th {\n",
       "        vertical-align: top;\n",
       "    }\n",
       "\n",
       "    .dataframe thead th {\n",
       "        text-align: right;\n",
       "    }\n",
       "</style>\n",
       "<table border=\"1\" class=\"dataframe\">\n",
       "  <thead>\n",
       "    <tr style=\"text-align: right;\">\n",
       "      <th></th>\n",
       "      <th>TrueValues</th>\n",
       "      <th>Predictions</th>\n",
       "      <th>Error(%)</th>\n",
       "    </tr>\n",
       "  </thead>\n",
       "  <tbody>\n",
       "    <tr>\n",
       "      <th>0</th>\n",
       "      <td>8.748480</td>\n",
       "      <td>8.296551</td>\n",
       "      <td>5.165800</td>\n",
       "    </tr>\n",
       "    <tr>\n",
       "      <th>1</th>\n",
       "      <td>10.894277</td>\n",
       "      <td>10.801308</td>\n",
       "      <td>0.853372</td>\n",
       "    </tr>\n",
       "    <tr>\n",
       "      <th>2</th>\n",
       "      <td>9.274920</td>\n",
       "      <td>8.791428</td>\n",
       "      <td>5.212897</td>\n",
       "    </tr>\n",
       "    <tr>\n",
       "      <th>3</th>\n",
       "      <td>9.844634</td>\n",
       "      <td>9.319750</td>\n",
       "      <td>5.331674</td>\n",
       "    </tr>\n",
       "    <tr>\n",
       "      <th>4</th>\n",
       "      <td>9.408330</td>\n",
       "      <td>9.100635</td>\n",
       "      <td>3.270460</td>\n",
       "    </tr>\n",
       "    <tr>\n",
       "      <th>5</th>\n",
       "      <td>7.994362</td>\n",
       "      <td>8.498813</td>\n",
       "      <td>6.310076</td>\n",
       "    </tr>\n",
       "    <tr>\n",
       "      <th>6</th>\n",
       "      <td>10.752206</td>\n",
       "      <td>10.953616</td>\n",
       "      <td>1.873198</td>\n",
       "    </tr>\n",
       "    <tr>\n",
       "      <th>7</th>\n",
       "      <td>10.050864</td>\n",
       "      <td>9.574286</td>\n",
       "      <td>4.741659</td>\n",
       "    </tr>\n",
       "    <tr>\n",
       "      <th>8</th>\n",
       "      <td>9.429773</td>\n",
       "      <td>8.498370</td>\n",
       "      <td>9.877255</td>\n",
       "    </tr>\n",
       "    <tr>\n",
       "      <th>9</th>\n",
       "      <td>10.651618</td>\n",
       "      <td>11.232728</td>\n",
       "      <td>5.455610</td>\n",
       "    </tr>\n",
       "    <tr>\n",
       "      <th>10</th>\n",
       "      <td>9.777607</td>\n",
       "      <td>9.279062</td>\n",
       "      <td>5.098848</td>\n",
       "    </tr>\n",
       "    <tr>\n",
       "      <th>11</th>\n",
       "      <td>6.575773</td>\n",
       "      <td>7.933572</td>\n",
       "      <td>20.648516</td>\n",
       "    </tr>\n",
       "    <tr>\n",
       "      <th>12</th>\n",
       "      <td>7.303439</td>\n",
       "      <td>8.115606</td>\n",
       "      <td>11.120328</td>\n",
       "    </tr>\n",
       "    <tr>\n",
       "      <th>13</th>\n",
       "      <td>9.113863</td>\n",
       "      <td>8.852442</td>\n",
       "      <td>2.868380</td>\n",
       "    </tr>\n",
       "    <tr>\n",
       "      <th>14</th>\n",
       "      <td>10.186099</td>\n",
       "      <td>8.871590</td>\n",
       "      <td>12.904936</td>\n",
       "    </tr>\n",
       "    <tr>\n",
       "      <th>15</th>\n",
       "      <td>6.791895</td>\n",
       "      <td>7.808165</td>\n",
       "      <td>14.962970</td>\n",
       "    </tr>\n",
       "    <tr>\n",
       "      <th>16</th>\n",
       "      <td>10.235109</td>\n",
       "      <td>9.145887</td>\n",
       "      <td>10.642019</td>\n",
       "    </tr>\n",
       "    <tr>\n",
       "      <th>17</th>\n",
       "      <td>11.022344</td>\n",
       "      <td>10.499988</td>\n",
       "      <td>4.739060</td>\n",
       "    </tr>\n",
       "    <tr>\n",
       "      <th>18</th>\n",
       "      <td>8.413121</td>\n",
       "      <td>8.577356</td>\n",
       "      <td>1.952137</td>\n",
       "    </tr>\n",
       "    <tr>\n",
       "      <th>19</th>\n",
       "      <td>7.459512</td>\n",
       "      <td>8.199158</td>\n",
       "      <td>9.915482</td>\n",
       "    </tr>\n",
       "  </tbody>\n",
       "</table>\n",
       "</div>"
      ],
      "text/plain": [
       "    TrueValues  Predictions   Error(%)\n",
       "0     8.748480     8.296551   5.165800\n",
       "1    10.894277    10.801308   0.853372\n",
       "2     9.274920     8.791428   5.212897\n",
       "3     9.844634     9.319750   5.331674\n",
       "4     9.408330     9.100635   3.270460\n",
       "5     7.994362     8.498813   6.310076\n",
       "6    10.752206    10.953616   1.873198\n",
       "7    10.050864     9.574286   4.741659\n",
       "8     9.429773     8.498370   9.877255\n",
       "9    10.651618    11.232728   5.455610\n",
       "10    9.777607     9.279062   5.098848\n",
       "11    6.575773     7.933572  20.648516\n",
       "12    7.303439     8.115606  11.120328\n",
       "13    9.113863     8.852442   2.868380\n",
       "14   10.186099     8.871590  12.904936\n",
       "15    6.791895     7.808165  14.962970\n",
       "16   10.235109     9.145887  10.642019\n",
       "17   11.022344    10.499988   4.739060\n",
       "18    8.413121     8.577356   1.952137\n",
       "19    7.459512     8.199158   9.915482"
      ]
     },
     "execution_count": 152,
     "metadata": {},
     "output_type": "execute_result"
    }
   ],
   "source": [
    "test"
   ]
  },
  {
   "cell_type": "code",
   "execution_count": 153,
   "metadata": {},
   "outputs": [
    {
     "data": {
      "text/html": [
       "<div>\n",
       "<style scoped>\n",
       "    .dataframe tbody tr th:only-of-type {\n",
       "        vertical-align: middle;\n",
       "    }\n",
       "\n",
       "    .dataframe tbody tr th {\n",
       "        vertical-align: top;\n",
       "    }\n",
       "\n",
       "    .dataframe thead th {\n",
       "        text-align: right;\n",
       "    }\n",
       "</style>\n",
       "<table border=\"1\" class=\"dataframe\">\n",
       "  <thead>\n",
       "    <tr style=\"text-align: right;\">\n",
       "      <th></th>\n",
       "      <th>TrueValues</th>\n",
       "      <th>Predictions</th>\n",
       "      <th>Error(%)</th>\n",
       "    </tr>\n",
       "  </thead>\n",
       "  <tbody>\n",
       "    <tr>\n",
       "      <th>count</th>\n",
       "      <td>20.000000</td>\n",
       "      <td>20.000000</td>\n",
       "      <td>20.000000</td>\n",
       "    </tr>\n",
       "    <tr>\n",
       "      <th>mean</th>\n",
       "      <td>9.196411</td>\n",
       "      <td>9.117516</td>\n",
       "      <td>7.147234</td>\n",
       "    </tr>\n",
       "    <tr>\n",
       "      <th>std</th>\n",
       "      <td>1.375010</td>\n",
       "      <td>1.020856</td>\n",
       "      <td>5.014192</td>\n",
       "    </tr>\n",
       "    <tr>\n",
       "      <th>min</th>\n",
       "      <td>6.575773</td>\n",
       "      <td>7.808165</td>\n",
       "      <td>0.853372</td>\n",
       "    </tr>\n",
       "    <tr>\n",
       "      <th>25%</th>\n",
       "      <td>8.308431</td>\n",
       "      <td>8.447915</td>\n",
       "      <td>4.371910</td>\n",
       "    </tr>\n",
       "    <tr>\n",
       "      <th>50%</th>\n",
       "      <td>9.419052</td>\n",
       "      <td>8.862016</td>\n",
       "      <td>5.272285</td>\n",
       "    </tr>\n",
       "    <tr>\n",
       "      <th>75%</th>\n",
       "      <td>10.198352</td>\n",
       "      <td>9.383384</td>\n",
       "      <td>10.097116</td>\n",
       "    </tr>\n",
       "    <tr>\n",
       "      <th>max</th>\n",
       "      <td>11.022344</td>\n",
       "      <td>11.232728</td>\n",
       "      <td>20.648516</td>\n",
       "    </tr>\n",
       "  </tbody>\n",
       "</table>\n",
       "</div>"
      ],
      "text/plain": [
       "       TrueValues  Predictions   Error(%)\n",
       "count   20.000000    20.000000  20.000000\n",
       "mean     9.196411     9.117516   7.147234\n",
       "std      1.375010     1.020856   5.014192\n",
       "min      6.575773     7.808165   0.853372\n",
       "25%      8.308431     8.447915   4.371910\n",
       "50%      9.419052     8.862016   5.272285\n",
       "75%     10.198352     9.383384  10.097116\n",
       "max     11.022344    11.232728  20.648516"
      ]
     },
     "execution_count": 153,
     "metadata": {},
     "output_type": "execute_result"
    }
   ],
   "source": [
    "test.describe()"
   ]
  },
  {
   "cell_type": "code",
   "execution_count": 154,
   "metadata": {},
   "outputs": [
    {
     "data": {
      "text/plain": [
       "0.6166045374543911"
      ]
     },
     "execution_count": 154,
     "metadata": {},
     "output_type": "execute_result"
    }
   ],
   "source": [
    "mean_absolute_error(y_pred,y_test)"
   ]
  },
  {
   "cell_type": "code",
   "execution_count": 155,
   "metadata": {},
   "outputs": [
    {
     "data": {
      "text/plain": [
       "0.4869720256348733"
      ]
     },
     "execution_count": 155,
     "metadata": {},
     "output_type": "execute_result"
    }
   ],
   "source": [
    "r2_score(y_pred,y_test)"
   ]
  },
  {
   "cell_type": "code",
   "execution_count": 156,
   "metadata": {},
   "outputs": [],
   "source": [
    "albania = [3.4, 4.62, 4.7, 6.19, 3.16, 1153, 4.719, 0.12, 2880248, 0,0.000000, 0.000000 ,0, \n",
    "        0.000000, 0.000000, 0, 0, 0, 0, 0, 0]"
   ]
  },
  {
   "cell_type": "code",
   "execution_count": 157,
   "metadata": {},
   "outputs": [],
   "source": [
    "def create_prediction(data):\n",
    "    \n",
    "    \"\"\"\n",
    "    Enter list with 21 columns\n",
    "    \"\"\"\n",
    "    \n",
    "    data = np.array(data)\n",
    "    data = np.reshape(data, (1,21))\n",
    "    data = sc.transform(data)\n",
    "    \n",
    "    log_prediction = pls.predict(data)[0][0]\n",
    "    prediction = np.exp(log_prediction)\n",
    "    return prediction"
   ]
  },
  {
   "cell_type": "code",
   "execution_count": 158,
   "metadata": {},
   "outputs": [
    {
     "data": {
      "text/plain": [
       "4255.09704412098"
      ]
     },
     "execution_count": 158,
     "metadata": {},
     "output_type": "execute_result"
    }
   ],
   "source": [
    "prediction = create_prediction(data = albania)\n",
    "prediction"
   ]
  },
  {
   "cell_type": "code",
   "execution_count": 159,
   "metadata": {},
   "outputs": [
    {
     "data": {
      "text/plain": [
       "13.591707987631349"
      ]
     },
     "execution_count": 159,
     "metadata": {},
     "output_type": "execute_result"
    }
   ],
   "source": [
    "dif = 5260.9 - 4545.853834478702\n",
    "error=np.absolute(dif/5260.9*100)\n",
    "error"
   ]
  },
  {
   "cell_type": "code",
   "execution_count": null,
   "metadata": {},
   "outputs": [],
   "source": []
  }
 ],
 "metadata": {
  "kernelspec": {
   "display_name": "Python 3",
   "language": "python",
   "name": "python3"
  },
  "language_info": {
   "codemirror_mode": {
    "name": "ipython",
    "version": 3
   },
   "file_extension": ".py",
   "mimetype": "text/x-python",
   "name": "python",
   "nbconvert_exporter": "python",
   "pygments_lexer": "ipython3",
   "version": "3.7.3"
  }
 },
 "nbformat": 4,
 "nbformat_minor": 2
}

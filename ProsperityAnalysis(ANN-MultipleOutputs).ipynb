{
 "cells": [
  {
   "cell_type": "code",
   "execution_count": 124,
   "metadata": {},
   "outputs": [],
   "source": [
    "import numpy as np\n",
    "import pandas as pd\n",
    "import matplotlib.pyplot as plt\n",
    "import seaborn as sns"
   ]
  },
  {
   "cell_type": "code",
   "execution_count": 51,
   "metadata": {},
   "outputs": [
    {
     "data": {
      "text/html": [
       "<div>\n",
       "<style scoped>\n",
       "    .dataframe tbody tr th:only-of-type {\n",
       "        vertical-align: middle;\n",
       "    }\n",
       "\n",
       "    .dataframe tbody tr th {\n",
       "        vertical-align: top;\n",
       "    }\n",
       "\n",
       "    .dataframe thead th {\n",
       "        text-align: right;\n",
       "    }\n",
       "</style>\n",
       "<table border=\"1\" class=\"dataframe\">\n",
       "  <thead>\n",
       "    <tr style=\"text-align: right;\">\n",
       "      <th></th>\n",
       "      <th>Country</th>\n",
       "      <th>GDP Per Capita</th>\n",
       "      <th>Technology</th>\n",
       "      <th>Human Capital</th>\n",
       "      <th>Institutional Framework</th>\n",
       "      <th>Sustainable Resources</th>\n",
       "      <th>Demand Environment</th>\n",
       "      <th>Education</th>\n",
       "      <th>Happiness</th>\n",
       "      <th>Unemployment Rate</th>\n",
       "      <th>Population</th>\n",
       "      <th>Import Degree</th>\n",
       "      <th>Import Eigenvector</th>\n",
       "      <th>Import Betweenness</th>\n",
       "      <th>Export Degree</th>\n",
       "      <th>Export Eigenvector</th>\n",
       "      <th>Export Betweenness</th>\n",
       "      <th>Location</th>\n",
       "    </tr>\n",
       "  </thead>\n",
       "  <tbody>\n",
       "    <tr>\n",
       "      <th>0</th>\n",
       "      <td>Albania</td>\n",
       "      <td>5260.9</td>\n",
       "      <td>3.40</td>\n",
       "      <td>4.62</td>\n",
       "      <td>4.7</td>\n",
       "      <td>6.19</td>\n",
       "      <td>3.16</td>\n",
       "      <td>1153</td>\n",
       "      <td>4.719</td>\n",
       "      <td>0.120</td>\n",
       "      <td>2880248</td>\n",
       "      <td>0</td>\n",
       "      <td>0.000000</td>\n",
       "      <td>0.0</td>\n",
       "      <td>0</td>\n",
       "      <td>0.000000</td>\n",
       "      <td>0.0</td>\n",
       "      <td>Europe</td>\n",
       "    </tr>\n",
       "    <tr>\n",
       "      <th>1</th>\n",
       "      <td>Algeria</td>\n",
       "      <td>4449.8</td>\n",
       "      <td>2.97</td>\n",
       "      <td>3.58</td>\n",
       "      <td>3.6</td>\n",
       "      <td>5.36</td>\n",
       "      <td>5.00</td>\n",
       "      <td>1086</td>\n",
       "      <td>5.211</td>\n",
       "      <td>0.117</td>\n",
       "      <td>43216262</td>\n",
       "      <td>3</td>\n",
       "      <td>0.022113</td>\n",
       "      <td>0.0</td>\n",
       "      <td>3</td>\n",
       "      <td>0.029143</td>\n",
       "      <td>0.0</td>\n",
       "      <td>Africa</td>\n",
       "    </tr>\n",
       "  </tbody>\n",
       "</table>\n",
       "</div>"
      ],
      "text/plain": [
       "   Country  GDP Per Capita  Technology  Human Capital  \\\n",
       "0  Albania          5260.9        3.40           4.62   \n",
       "1  Algeria          4449.8        2.97           3.58   \n",
       "\n",
       "   Institutional Framework  Sustainable Resources  Demand Environment  \\\n",
       "0                      4.7                   6.19                3.16   \n",
       "1                      3.6                   5.36                5.00   \n",
       "\n",
       "   Education  Happiness  Unemployment Rate  Population  Import Degree  \\\n",
       "0       1153      4.719              0.120     2880248              0   \n",
       "1       1086      5.211              0.117    43216262              3   \n",
       "\n",
       "   Import Eigenvector  Import Betweenness  Export Degree  Export Eigenvector  \\\n",
       "0            0.000000                 0.0              0            0.000000   \n",
       "1            0.022113                 0.0              3            0.029143   \n",
       "\n",
       "   Export Betweenness Location  \n",
       "0                 0.0   Europe  \n",
       "1                 0.0   Africa  "
      ]
     },
     "execution_count": 51,
     "metadata": {},
     "output_type": "execute_result"
    }
   ],
   "source": [
    "df = pd.read_csv('C:\\\\Users\\\\Ufuk Altan\\\\Downloads\\\\Downloads\\\\Data Science\\\\I Dati\\\\Prosperity.csv')\n",
    "df.head(2)"
   ]
  },
  {
   "cell_type": "code",
   "execution_count": 3,
   "metadata": {},
   "outputs": [],
   "source": [
    "def plot_quantiles(data, cat_column, num_column):\n",
    "    \n",
    "    \"\"\"\n",
    "    PLots 1st and 3rd quantiles.\n",
    "    \"\"\"\n",
    "    \n",
    "    from warnings import filterwarnings\n",
    "    filterwarnings(\"ignore\")\n",
    "    \n",
    "    order = np.array(data.groupby(cat_column)[num_column].quantile(0.75).index)\n",
    "        \n",
    "    \n",
    "    plt.figure(figsize=(20,20))\n",
    "    \n",
    "    plt.subplot(4,1,1)\n",
    "    data.groupby(cat_column)[num_column].quantile(0.75).plot()\n",
    "    plt.xlabel(\"Quantile 3\")\n",
    "    \n",
    "    \n",
    "    plt.subplot(4,1,2)\n",
    "    data.groupby(cat_column)[num_column].quantile(0.25).plot()\n",
    "    plt.xlabel(\"Quantile 1\")\n",
    "    \n",
    "    plt.subplot(4,1,3)\n",
    "    data.groupby(cat_column)[num_column].median().plot(color = 'g')\n",
    "    plt.xlabel(\"Median\")\n",
    "    \n",
    "    plt.subplot(4,1,4)\n",
    "    sns.boxplot(data = data, x = cat_column, y=num_column, order = order) \n",
    "    \n",
    "def percentage_error(dataframe,pred, true_value):\n",
    "        \n",
    "    difference = dataframe[true_value] - dataframe[pred]\n",
    "    \n",
    "    dataframe['Error(%)']= np.absolute(difference/dataframe[true_value]*100)\n",
    "    \n",
    "    print('median \\t {}'.format(dataframe['Error(%)'].median()))    \n",
    "    print(dataframe['Error(%)'].describe())\n",
    "    \n",
    "def adjusted_r_squared(r2, data):\n",
    "    \n",
    "    x = (1-r2)*(data.shape[0]-1)/(data.shape[0]-data.shape[1]-1) \n",
    "    \n",
    "    return 1-x"
   ]
  },
  {
   "cell_type": "code",
   "execution_count": 52,
   "metadata": {},
   "outputs": [],
   "source": [
    "cols = ['Technology', 'Human Capital','Institutional Framework', \n",
    "        \n",
    "       'Sustainable Resources',\n",
    "       'Demand Environment', 'Education', 'Happiness', 'Unemployment Rate',\n",
    "       'Population', 'Export Eigenvector',\n",
    "        'Location','GDP Per Capita']\n",
    "\n",
    "df = df[cols]"
   ]
  },
  {
   "cell_type": "code",
   "execution_count": 53,
   "metadata": {},
   "outputs": [
    {
     "data": {
      "text/plain": [
       "(100, 12)"
      ]
     },
     "execution_count": 53,
     "metadata": {},
     "output_type": "execute_result"
    }
   ],
   "source": [
    "df.shape"
   ]
  },
  {
   "cell_type": "code",
   "execution_count": 54,
   "metadata": {},
   "outputs": [],
   "source": [
    "X = df.iloc[:, 2:12]\n",
    "y = df.iloc[:, 0:2].values"
   ]
  },
  {
   "cell_type": "code",
   "execution_count": 35,
   "metadata": {},
   "outputs": [],
   "source": [
    "X = df.drop('GDP Per Capita', axis =1)\n",
    "y = df['GDP Per Capita'].values"
   ]
  },
  {
   "cell_type": "code",
   "execution_count": 55,
   "metadata": {},
   "outputs": [],
   "source": [
    "X = pd.get_dummies(X)\n",
    "X.drop('Location_Europe', inplace = True, axis =1)"
   ]
  },
  {
   "cell_type": "code",
   "execution_count": 56,
   "metadata": {},
   "outputs": [],
   "source": [
    "from sklearn.model_selection import train_test_split\n",
    "X_train, X_test, y_train, y_test = train_test_split(X, y, random_state=0, test_size=0.15 )"
   ]
  },
  {
   "cell_type": "code",
   "execution_count": 57,
   "metadata": {},
   "outputs": [],
   "source": [
    "from sklearn.preprocessing import MinMaxScaler\n",
    "scaler = MinMaxScaler()\n",
    "X_train = scaler.fit_transform(X_train)\n",
    "X_test = scaler.transform(X_test)"
   ]
  },
  {
   "cell_type": "code",
   "execution_count": 62,
   "metadata": {},
   "outputs": [],
   "source": [
    "from tensorflow.keras.models import Sequential, Model\n",
    "from tensorflow.keras.layers import Dense, Input"
   ]
  },
  {
   "cell_type": "code",
   "execution_count": 104,
   "metadata": {},
   "outputs": [],
   "source": [
    "inputs = Input(shape=(15,), name='MultipleOutputs')\n",
    "layer1 = Dense(20, activation='relu')(inputs)\n",
    "layer2 = Dense(20, activation='relu')(layer1)\n",
    "layer3 = Dense(20, activation='relu')(layer2)\n",
    "\n",
    "output = Dense(2, activation='relu')(layer3)\n",
    "model = Model(inputs, output)\n",
    "\n",
    "model.compile(optimizer='adam', loss= 'mse')"
   ]
  },
  {
   "cell_type": "code",
   "execution_count": 105,
   "metadata": {},
   "outputs": [
    {
     "name": "stdout",
     "output_type": "stream",
     "text": [
      "Train on 85 samples, validate on 15 samples\n",
      "Epoch 1/100\n",
      "WARNING:tensorflow:Entity <function Function._initialize_uninitialized_variables.<locals>.initialize_variables at 0x00000215460DF048> could not be transformed and will be executed as-is. Please report this to the AutoGraph team. When filing the bug, set the verbosity to 10 (on Linux, `export AUTOGRAPH_VERBOSITY=10`) and attach the full output. Cause: module 'gast' has no attribute 'Num'\n",
      "WARNING: Entity <function Function._initialize_uninitialized_variables.<locals>.initialize_variables at 0x00000215460DF048> could not be transformed and will be executed as-is. Please report this to the AutoGraph team. When filing the bug, set the verbosity to 10 (on Linux, `export AUTOGRAPH_VERBOSITY=10`) and attach the full output. Cause: module 'gast' has no attribute 'Num'\n",
      "85/85 [==============================] - 1s 9ms/sample - loss: 26.2905 - val_loss: 27.9306\n",
      "Epoch 2/100\n",
      "85/85 [==============================] - 0s 305us/sample - loss: 26.0069 - val_loss: 27.6150\n",
      "Epoch 3/100\n",
      "85/85 [==============================] - 0s 340us/sample - loss: 25.6821 - val_loss: 27.2782\n",
      "Epoch 4/100\n",
      "85/85 [==============================] - 0s 305us/sample - loss: 25.3198 - val_loss: 26.8949\n",
      "Epoch 5/100\n",
      "85/85 [==============================] - 0s 293us/sample - loss: 24.9558 - val_loss: 26.4614\n",
      "Epoch 6/100\n",
      "85/85 [==============================] - 0s 282us/sample - loss: 24.5555 - val_loss: 25.9982\n",
      "Epoch 7/100\n",
      "85/85 [==============================] - 0s 375us/sample - loss: 24.1149 - val_loss: 25.5137\n",
      "Epoch 8/100\n",
      "85/85 [==============================] - 0s 399us/sample - loss: 23.6161 - val_loss: 24.9873\n",
      "Epoch 9/100\n",
      "85/85 [==============================] - 0s 340us/sample - loss: 23.0944 - val_loss: 24.4049\n",
      "Epoch 10/100\n",
      "85/85 [==============================] - 0s 352us/sample - loss: 22.5186 - val_loss: 23.7669\n",
      "Epoch 11/100\n",
      "85/85 [==============================] - 0s 329us/sample - loss: 21.8683 - val_loss: 23.0818\n",
      "Epoch 12/100\n",
      "85/85 [==============================] - 0s 340us/sample - loss: 21.2042 - val_loss: 22.3532\n",
      "Epoch 13/100\n",
      "85/85 [==============================] - 0s 305us/sample - loss: 20.4543 - val_loss: 21.5795\n",
      "Epoch 14/100\n",
      "85/85 [==============================] - 0s 375us/sample - loss: 19.6852 - val_loss: 20.7588\n",
      "Epoch 15/100\n",
      "85/85 [==============================] - 0s 329us/sample - loss: 18.8926 - val_loss: 19.8910\n",
      "Epoch 16/100\n",
      "85/85 [==============================] - 0s 270us/sample - loss: 18.0643 - val_loss: 18.9964\n",
      "Epoch 17/100\n",
      "85/85 [==============================] - 0s 340us/sample - loss: 17.2223 - val_loss: 18.0928\n",
      "Epoch 18/100\n",
      "85/85 [==============================] - 0s 399us/sample - loss: 16.3553 - val_loss: 17.1997\n",
      "Epoch 19/100\n",
      "85/85 [==============================] - 0s 282us/sample - loss: 15.5336 - val_loss: 16.3301\n",
      "Epoch 20/100\n",
      "85/85 [==============================] - 0s 305us/sample - loss: 14.7522 - val_loss: 15.4968\n",
      "Epoch 21/100\n",
      "85/85 [==============================] - 0s 387us/sample - loss: 14.0414 - val_loss: 14.7225\n",
      "Epoch 22/100\n",
      "85/85 [==============================] - 0s 364us/sample - loss: 13.4104 - val_loss: 14.0453\n",
      "Epoch 23/100\n",
      "85/85 [==============================] - 0s 282us/sample - loss: 12.8671 - val_loss: 13.4897\n",
      "Epoch 24/100\n",
      "85/85 [==============================] - 0s 270us/sample - loss: 12.4640 - val_loss: 13.0619\n",
      "Epoch 25/100\n",
      "85/85 [==============================] - 0s 340us/sample - loss: 12.2184 - val_loss: 12.7545\n",
      "Epoch 26/100\n",
      "85/85 [==============================] - 0s 317us/sample - loss: 12.0666 - val_loss: 12.5045\n",
      "Epoch 27/100\n",
      "85/85 [==============================] - 0s 328us/sample - loss: 11.9303 - val_loss: 12.0939\n",
      "Epoch 28/100\n",
      "85/85 [==============================] - 0s 352us/sample - loss: 11.3283 - val_loss: 11.0231\n",
      "Epoch 29/100\n",
      "85/85 [==============================] - 0s 399us/sample - loss: 10.1885 - val_loss: 9.6582\n",
      "Epoch 30/100\n",
      "85/85 [==============================] - 0s 516us/sample - loss: 8.7726 - val_loss: 8.1515\n",
      "Epoch 31/100\n",
      "85/85 [==============================] - 0s 375us/sample - loss: 7.1352 - val_loss: 6.6448\n",
      "Epoch 32/100\n",
      "85/85 [==============================] - 0s 528us/sample - loss: 5.6535 - val_loss: 5.2338\n",
      "Epoch 33/100\n",
      "85/85 [==============================] - 0s 364us/sample - loss: 4.2657 - val_loss: 3.9879\n",
      "Epoch 34/100\n",
      "85/85 [==============================] - 0s 493us/sample - loss: 3.0637 - val_loss: 2.9184\n",
      "Epoch 35/100\n",
      "85/85 [==============================] - 0s 411us/sample - loss: 2.1040 - val_loss: 2.0558\n",
      "Epoch 36/100\n",
      "85/85 [==============================] - 0s 399us/sample - loss: 1.3536 - val_loss: 1.4132\n",
      "Epoch 37/100\n",
      "85/85 [==============================] - 0s 551us/sample - loss: 0.8563 - val_loss: 0.9888\n",
      "Epoch 38/100\n",
      "85/85 [==============================] - 0s 376us/sample - loss: 0.5976 - val_loss: 0.7631\n",
      "Epoch 39/100\n",
      "85/85 [==============================] - 0s 446us/sample - loss: 0.4903 - val_loss: 0.6867\n",
      "Epoch 40/100\n",
      "85/85 [==============================] - 0s 375us/sample - loss: 0.5215 - val_loss: 0.6913\n",
      "Epoch 41/100\n",
      "85/85 [==============================] - 0s 399us/sample - loss: 0.5593 - val_loss: 0.7171\n",
      "Epoch 42/100\n",
      "85/85 [==============================] - 0s 305us/sample - loss: 0.5729 - val_loss: 0.7380\n",
      "Epoch 43/100\n",
      "85/85 [==============================] - 0s 387us/sample - loss: 0.5557 - val_loss: 0.7556\n",
      "Epoch 44/100\n",
      "85/85 [==============================] - 0s 329us/sample - loss: 0.5242 - val_loss: 0.7708\n",
      "Epoch 45/100\n",
      "85/85 [==============================] - 0s 446us/sample - loss: 0.4852 - val_loss: 0.7761\n",
      "Epoch 46/100\n",
      "85/85 [==============================] - 0s 282us/sample - loss: 0.4555 - val_loss: 0.7740\n",
      "Epoch 47/100\n",
      "85/85 [==============================] - 0s 364us/sample - loss: 0.4304 - val_loss: 0.7603\n",
      "Epoch 48/100\n",
      "85/85 [==============================] - 0s 340us/sample - loss: 0.4180 - val_loss: 0.7385\n",
      "Epoch 49/100\n",
      "85/85 [==============================] - 0s 270us/sample - loss: 0.4096 - val_loss: 0.7059\n",
      "Epoch 50/100\n",
      "85/85 [==============================] - 0s 340us/sample - loss: 0.4053 - val_loss: 0.6857\n",
      "Epoch 51/100\n",
      "85/85 [==============================] - 0s 340us/sample - loss: 0.4003 - val_loss: 0.6719\n",
      "Epoch 52/100\n",
      "85/85 [==============================] - 0s 399us/sample - loss: 0.3965 - val_loss: 0.6586\n",
      "Epoch 53/100\n",
      "85/85 [==============================] - 0s 329us/sample - loss: 0.3917 - val_loss: 0.6466\n",
      "Epoch 54/100\n",
      "85/85 [==============================] - 0s 317us/sample - loss: 0.3856 - val_loss: 0.6449\n",
      "Epoch 55/100\n",
      "85/85 [==============================] - ETA: 0s - loss: 0.423 - 0s 270us/sample - loss: 0.3795 - val_loss: 0.6406\n",
      "Epoch 56/100\n",
      "85/85 [==============================] - 0s 434us/sample - loss: 0.3751 - val_loss: 0.6462\n",
      "Epoch 57/100\n",
      "85/85 [==============================] - 0s 387us/sample - loss: 0.3681 - val_loss: 0.6440\n",
      "Epoch 58/100\n",
      "85/85 [==============================] - 0s 375us/sample - loss: 0.3647 - val_loss: 0.6405\n",
      "Epoch 59/100\n",
      "85/85 [==============================] - 0s 411us/sample - loss: 0.3611 - val_loss: 0.6420\n",
      "Epoch 60/100\n",
      "85/85 [==============================] - 0s 516us/sample - loss: 0.3575 - val_loss: 0.6348\n",
      "Epoch 61/100\n",
      "85/85 [==============================] - 0s 551us/sample - loss: 0.3551 - val_loss: 0.6348\n",
      "Epoch 62/100\n",
      "85/85 [==============================] - 0s 422us/sample - loss: 0.3512 - val_loss: 0.6283\n",
      "Epoch 63/100\n",
      "85/85 [==============================] - 0s 469us/sample - loss: 0.3470 - val_loss: 0.6195\n",
      "Epoch 64/100\n",
      "85/85 [==============================] - 0s 434us/sample - loss: 0.3434 - val_loss: 0.6138\n",
      "Epoch 65/100\n",
      "85/85 [==============================] - 0s 446us/sample - loss: 0.3401 - val_loss: 0.6074\n",
      "Epoch 66/100\n",
      "85/85 [==============================] - 0s 481us/sample - loss: 0.3375 - val_loss: 0.5999\n",
      "Epoch 67/100\n",
      "85/85 [==============================] - 0s 622us/sample - loss: 0.3340 - val_loss: 0.6003\n",
      "Epoch 68/100\n",
      "85/85 [==============================] - 0s 375us/sample - loss: 0.3312 - val_loss: 0.5996\n",
      "Epoch 69/100\n",
      "85/85 [==============================] - 0s 552us/sample - loss: 0.3281 - val_loss: 0.5931\n",
      "Epoch 70/100\n",
      "85/85 [==============================] - 0s 458us/sample - loss: 0.3251 - val_loss: 0.5910\n",
      "Epoch 71/100\n"
     ]
    },
    {
     "name": "stdout",
     "output_type": "stream",
     "text": [
      "85/85 [==============================] - 0s 434us/sample - loss: 0.3224 - val_loss: 0.5865\n",
      "Epoch 72/100\n",
      "85/85 [==============================] - 0s 340us/sample - loss: 0.3192 - val_loss: 0.5744\n",
      "Epoch 73/100\n",
      "85/85 [==============================] - 0s 375us/sample - loss: 0.3168 - val_loss: 0.5609\n",
      "Epoch 74/100\n",
      "85/85 [==============================] - 0s 411us/sample - loss: 0.3146 - val_loss: 0.5520\n",
      "Epoch 75/100\n",
      "85/85 [==============================] - 0s 329us/sample - loss: 0.3113 - val_loss: 0.5507\n",
      "Epoch 76/100\n",
      "85/85 [==============================] - 0s 458us/sample - loss: 0.3092 - val_loss: 0.5493\n",
      "Epoch 77/100\n",
      "85/85 [==============================] - 0s 493us/sample - loss: 0.3061 - val_loss: 0.5560\n",
      "Epoch 78/100\n",
      "85/85 [==============================] - 0s 516us/sample - loss: 0.3036 - val_loss: 0.5597\n",
      "Epoch 79/100\n",
      "85/85 [==============================] - 0s 422us/sample - loss: 0.3013 - val_loss: 0.5594\n",
      "Epoch 80/100\n",
      "85/85 [==============================] - 0s 469us/sample - loss: 0.2996 - val_loss: 0.5493\n",
      "Epoch 81/100\n",
      "85/85 [==============================] - 0s 422us/sample - loss: 0.2963 - val_loss: 0.5423\n",
      "Epoch 82/100\n",
      "85/85 [==============================] - 0s 399us/sample - loss: 0.2935 - val_loss: 0.5370\n",
      "Epoch 83/100\n",
      "85/85 [==============================] - 0s 516us/sample - loss: 0.2914 - val_loss: 0.5286\n",
      "Epoch 84/100\n",
      "85/85 [==============================] - 0s 411us/sample - loss: 0.2884 - val_loss: 0.5233\n",
      "Epoch 85/100\n",
      "85/85 [==============================] - 0s 399us/sample - loss: 0.2856 - val_loss: 0.5173\n",
      "Epoch 86/100\n",
      "85/85 [==============================] - 0s 387us/sample - loss: 0.2833 - val_loss: 0.5107\n",
      "Epoch 87/100\n",
      "85/85 [==============================] - 0s 434us/sample - loss: 0.2810 - val_loss: 0.5033\n",
      "Epoch 88/100\n",
      "85/85 [==============================] - 0s 422us/sample - loss: 0.2784 - val_loss: 0.4984\n",
      "Epoch 89/100\n",
      "85/85 [==============================] - 0s 375us/sample - loss: 0.2762 - val_loss: 0.4981\n",
      "Epoch 90/100\n",
      "85/85 [==============================] - 0s 375us/sample - loss: 0.2738 - val_loss: 0.4954\n",
      "Epoch 91/100\n",
      "85/85 [==============================] - 0s 458us/sample - loss: 0.2717 - val_loss: 0.4896\n",
      "Epoch 92/100\n",
      "85/85 [==============================] - 0s 457us/sample - loss: 0.2690 - val_loss: 0.4863\n",
      "Epoch 93/100\n",
      "85/85 [==============================] - 0s 411us/sample - loss: 0.2662 - val_loss: 0.4887\n",
      "Epoch 94/100\n",
      "85/85 [==============================] - 0s 434us/sample - loss: 0.2641 - val_loss: 0.4882\n",
      "Epoch 95/100\n",
      "85/85 [==============================] - 0s 375us/sample - loss: 0.2620 - val_loss: 0.4871\n",
      "Epoch 96/100\n",
      "85/85 [==============================] - 0s 364us/sample - loss: 0.2597 - val_loss: 0.4822\n",
      "Epoch 97/100\n",
      "85/85 [==============================] - 0s 387us/sample - loss: 0.2577 - val_loss: 0.4802\n",
      "Epoch 98/100\n",
      "85/85 [==============================] - 0s 411us/sample - loss: 0.2551 - val_loss: 0.4754\n",
      "Epoch 99/100\n",
      "85/85 [==============================] - 0s 329us/sample - loss: 0.2539 - val_loss: 0.4648\n",
      "Epoch 100/100\n",
      "85/85 [==============================] - 0s 399us/sample - loss: 0.2511 - val_loss: 0.4647\n"
     ]
    }
   ],
   "source": [
    "result = model.fit(X_train,y_train,validation_data=(X_test,y_test), epochs=100, verbose = 1)"
   ]
  },
  {
   "cell_type": "code",
   "execution_count": 106,
   "metadata": {},
   "outputs": [
    {
     "data": {
      "text/plain": [
       "<AxesSubplot:>"
      ]
     },
     "execution_count": 106,
     "metadata": {},
     "output_type": "execute_result"
    },
    {
     "data": {
      "image/png": "[encoded data removed]",
      "text/plain": [
       "<Figure size 864x432 with 1 Axes>"
      ]
     },
     "metadata": {
      "needs_background": "light"
     },
     "output_type": "display_data"
    }
   ],
   "source": [
    "losses = pd.DataFrame(result.history)\n",
    "losses.plot(figsize=(12,6))"
   ]
  },
  {
   "cell_type": "code",
   "execution_count": 107,
   "metadata": {},
   "outputs": [],
   "source": [
    "y_pred = model.predict(X_test)"
   ]
  },
  {
   "cell_type": "code",
   "execution_count": 44,
   "metadata": {},
   "outputs": [],
   "source": [
    "y_pred = np.reshape(y_pred, (15,))"
   ]
  },
  {
   "cell_type": "code",
   "execution_count": 112,
   "metadata": {},
   "outputs": [
    {
     "data": {
      "text/plain": [
       "array([3.55, 7.31, 3.78, 4.73, 3.85, 3.51, 7.08, 5.49, 3.28, 8.05, 4.54,\n",
       "       3.19, 3.2 , 4.76, 4.43])"
      ]
     },
     "execution_count": 112,
     "metadata": {},
     "output_type": "execute_result"
    }
   ],
   "source": [
    "y_test[:,0]"
   ]
  },
  {
   "cell_type": "code",
   "execution_count": 113,
   "metadata": {},
   "outputs": [
    {
     "data": {
      "text/plain": [
       "array([3.009239 , 6.916792 , 3.8652575, 4.766677 , 4.260861 , 2.8721046,\n",
       "       6.8851457, 5.0063176, 3.588891 , 6.650265 , 4.719137 , 3.029157 ,\n",
       "       3.4689112, 3.793179 , 4.5213456], dtype=float32)"
      ]
     },
     "execution_count": 113,
     "metadata": {},
     "output_type": "execute_result"
    }
   ],
   "source": [
    "y_pred[:,0]"
   ]
  },
  {
   "cell_type": "code",
   "execution_count": 120,
   "metadata": {},
   "outputs": [
    {
     "data": {
      "text/html": [
       "<div>\n",
       "<style scoped>\n",
       "    .dataframe tbody tr th:only-of-type {\n",
       "        vertical-align: middle;\n",
       "    }\n",
       "\n",
       "    .dataframe tbody tr th {\n",
       "        vertical-align: top;\n",
       "    }\n",
       "\n",
       "    .dataframe thead th {\n",
       "        text-align: right;\n",
       "    }\n",
       "</style>\n",
       "<table border=\"1\" class=\"dataframe\">\n",
       "  <thead>\n",
       "    <tr style=\"text-align: right;\">\n",
       "      <th></th>\n",
       "      <th>Technology</th>\n",
       "      <th>Human Capital</th>\n",
       "      <th>Institutional Framework</th>\n",
       "      <th>Sustainable Resources</th>\n",
       "      <th>Demand Environment</th>\n",
       "      <th>Education</th>\n",
       "      <th>Happiness</th>\n",
       "      <th>Unemployment Rate</th>\n",
       "      <th>Population</th>\n",
       "      <th>Export Eigenvector</th>\n",
       "      <th>Location</th>\n",
       "      <th>GDP Per Capita</th>\n",
       "    </tr>\n",
       "  </thead>\n",
       "  <tbody>\n",
       "    <tr>\n",
       "      <th>0</th>\n",
       "      <td>3.40</td>\n",
       "      <td>4.62</td>\n",
       "      <td>4.70</td>\n",
       "      <td>6.19</td>\n",
       "      <td>3.16</td>\n",
       "      <td>1153</td>\n",
       "      <td>4.719</td>\n",
       "      <td>0.120</td>\n",
       "      <td>2880248</td>\n",
       "      <td>0.000000</td>\n",
       "      <td>Europe</td>\n",
       "      <td>5260.9</td>\n",
       "    </tr>\n",
       "    <tr>\n",
       "      <th>1</th>\n",
       "      <td>2.97</td>\n",
       "      <td>3.58</td>\n",
       "      <td>3.60</td>\n",
       "      <td>5.36</td>\n",
       "      <td>5.00</td>\n",
       "      <td>1086</td>\n",
       "      <td>5.211</td>\n",
       "      <td>0.117</td>\n",
       "      <td>43216262</td>\n",
       "      <td>0.029143</td>\n",
       "      <td>Africa</td>\n",
       "      <td>4449.8</td>\n",
       "    </tr>\n",
       "    <tr>\n",
       "      <th>2</th>\n",
       "      <td>3.78</td>\n",
       "      <td>4.94</td>\n",
       "      <td>4.16</td>\n",
       "      <td>5.84</td>\n",
       "      <td>4.99</td>\n",
       "      <td>1187</td>\n",
       "      <td>6.086</td>\n",
       "      <td>0.101</td>\n",
       "      <td>44866075</td>\n",
       "      <td>0.038238</td>\n",
       "      <td>South America</td>\n",
       "      <td>10667.1</td>\n",
       "    </tr>\n",
       "    <tr>\n",
       "      <th>3</th>\n",
       "      <td>3.53</td>\n",
       "      <td>5.07</td>\n",
       "      <td>4.93</td>\n",
       "      <td>5.85</td>\n",
       "      <td>3.68</td>\n",
       "      <td>1345</td>\n",
       "      <td>4.559</td>\n",
       "      <td>0.169</td>\n",
       "      <td>2958996</td>\n",
       "      <td>0.000000</td>\n",
       "      <td>Middle East</td>\n",
       "      <td>4190.2</td>\n",
       "    </tr>\n",
       "    <tr>\n",
       "      <th>4</th>\n",
       "      <td>6.91</td>\n",
       "      <td>7.41</td>\n",
       "      <td>8.32</td>\n",
       "      <td>6.47</td>\n",
       "      <td>5.78</td>\n",
       "      <td>1556</td>\n",
       "      <td>7.228</td>\n",
       "      <td>0.052</td>\n",
       "      <td>25265536</td>\n",
       "      <td>0.129649</td>\n",
       "      <td>Oceania</td>\n",
       "      <td>56698.1</td>\n",
       "    </tr>\n",
       "  </tbody>\n",
       "</table>\n",
       "</div>"
      ],
      "text/plain": [
       "   Technology  Human Capital  Institutional Framework  Sustainable Resources  \\\n",
       "0        3.40           4.62                     4.70                   6.19   \n",
       "1        2.97           3.58                     3.60                   5.36   \n",
       "2        3.78           4.94                     4.16                   5.84   \n",
       "3        3.53           5.07                     4.93                   5.85   \n",
       "4        6.91           7.41                     8.32                   6.47   \n",
       "\n",
       "   Demand Environment  Education  Happiness  Unemployment Rate  Population  \\\n",
       "0                3.16       1153      4.719              0.120     2880248   \n",
       "1                5.00       1086      5.211              0.117    43216262   \n",
       "2                4.99       1187      6.086              0.101    44866075   \n",
       "3                3.68       1345      4.559              0.169     2958996   \n",
       "4                5.78       1556      7.228              0.052    25265536   \n",
       "\n",
       "   Export Eigenvector       Location  GDP Per Capita  \n",
       "0            0.000000         Europe          5260.9  \n",
       "1            0.029143         Africa          4449.8  \n",
       "2            0.038238  South America         10667.1  \n",
       "3            0.000000    Middle East          4190.2  \n",
       "4            0.129649        Oceania         56698.1  "
      ]
     },
     "execution_count": 120,
     "metadata": {},
     "output_type": "execute_result"
    }
   ],
   "source": [
    "df.head()"
   ]
  },
  {
   "cell_type": "code",
   "execution_count": 114,
   "metadata": {},
   "outputs": [],
   "source": [
    "test0_ANN = pd.DataFrame()\n",
    "test0_ANN['TrueValues'] = y_test[:,0]\n",
    "test0_ANN['Predictions'] = y_pred[:,0]"
   ]
  },
  {
   "cell_type": "code",
   "execution_count": 115,
   "metadata": {},
   "outputs": [
    {
     "name": "stdout",
     "output_type": "stream",
     "text": [
      "median \t 8.403474092483515\n",
      "count    15.000000\n",
      "mean      8.708036\n",
      "std       6.425483\n",
      "min       0.775410\n",
      "25%       3.348967\n",
      "50%       8.403474\n",
      "75%      12.952209\n",
      "max      20.311365\n",
      "Name: Error(%), dtype: float64\n"
     ]
    }
   ],
   "source": [
    "percentage_error(test0_ANN, 'Predictions', 'TrueValues')"
   ]
  },
  {
   "cell_type": "code",
   "execution_count": 116,
   "metadata": {},
   "outputs": [],
   "source": [
    "test1_ANN = pd.DataFrame()\n",
    "test1_ANN['TrueValues'] = y_test[:,1]\n",
    "test1_ANN['Predictions'] = y_pred[:,1]"
   ]
  },
  {
   "cell_type": "code",
   "execution_count": 117,
   "metadata": {},
   "outputs": [
    {
     "name": "stdout",
     "output_type": "stream",
     "text": [
      "median \t 7.471507886715499\n",
      "count    15.000000\n",
      "mean     11.393209\n",
      "std      10.159477\n",
      "min       0.288179\n",
      "25%       4.750735\n",
      "50%       7.471508\n",
      "75%      16.060031\n",
      "max      39.453882\n",
      "Name: Error(%), dtype: float64\n"
     ]
    }
   ],
   "source": [
    "percentage_error(test1_ANN, 'Predictions', 'TrueValues')"
   ]
  },
  {
   "cell_type": "code",
   "execution_count": 122,
   "metadata": {},
   "outputs": [
    {
     "data": {
      "text/plain": [
       "Text(0.5, 0, 'Human Capital')"
      ]
     },
     "execution_count": 122,
     "metadata": {},
     "output_type": "execute_result"
    },
    {
     "data": {
      "image/png": "[encoded data removed]",
      "text/plain": [
       "<Figure size 1152x432 with 2 Axes>"
      ]
     },
     "metadata": {
      "needs_background": "light"
     },
     "output_type": "display_data"
    }
   ],
   "source": [
    "plt.figure(figsize =(16,6))\n",
    "\n",
    "plt.subplot(1,2,1)\n",
    "plt.hist(test0_ANN['Error(%)'], color ='r');\n",
    "plt.xlabel('Technology')\n",
    "\n",
    "plt.subplot(1,2,2)\n",
    "plt.hist(test1_ANN['Error(%)'], color ='r');\n",
    "plt.xlabel('Human Capital')"
   ]
  },
  {
   "cell_type": "code",
   "execution_count": 126,
   "metadata": {},
   "outputs": [
    {
     "data": {
      "text/plain": [
       "Text(0.5, 0, 'Human Capital')"
      ]
     },
     "execution_count": 126,
     "metadata": {},
     "output_type": "execute_result"
    },
    {
     "data": {
      "image/png": "[encoded data removed]",
      "text/plain": [
       "<Figure size 1152x432 with 2 Axes>"
      ]
     },
     "metadata": {
      "needs_background": "light"
     },
     "output_type": "display_data"
    }
   ],
   "source": [
    "plt.figure(figsize =(16,6))\n",
    "\n",
    "\n",
    "plt.subplot(1,2,1)\n",
    "sns.scatterplot(data =test0_ANN, x = 'TrueValues', y = 'Predictions')\n",
    "plt.plot(test0_ANN['TrueValues'], test0_ANN['TrueValues'], c = 'red')\n",
    "plt.xlabel('Technology')\n",
    "\n",
    "plt.subplot(1,2,2)\n",
    "sns.scatterplot(data =test1_ANN, x = 'TrueValues', y = 'Predictions' )\n",
    "plt.plot(test1_ANN['TrueValues'], test1_ANN['TrueValues'], c = 'orange')\n",
    "plt.xlabel('Human Capital')"
   ]
  },
  {
   "cell_type": "code",
   "execution_count": null,
   "metadata": {},
   "outputs": [],
   "source": []
  }
 ],
 "metadata": {
  "kernelspec": {
   "display_name": "Python 3",
   "language": "python",
   "name": "python3"
  },
  "language_info": {
   "codemirror_mode": {
    "name": "ipython",
    "version": 3
   },
   "file_extension": ".py",
   "mimetype": "text/x-python",
   "name": "python",
   "nbconvert_exporter": "python",
   "pygments_lexer": "ipython3",
   "version": "3.7.3"
  }
 },
 "nbformat": 4,
 "nbformat_minor": 4
}

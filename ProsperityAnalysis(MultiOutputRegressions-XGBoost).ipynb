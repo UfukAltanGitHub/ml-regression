{
 "cells": [
  {
   "cell_type": "code",
   "execution_count": 1,
   "metadata": {},
   "outputs": [],
   "source": [
    "import numpy as np\n",
    "import pandas as pd\n",
    "import xgboost as xgb"
   ]
  },
  {
   "cell_type": "code",
   "execution_count": 2,
   "metadata": {},
   "outputs": [
    {
     "data": {
      "text/html": [
       "<div>\n",
       "<style scoped>\n",
       "    .dataframe tbody tr th:only-of-type {\n",
       "        vertical-align: middle;\n",
       "    }\n",
       "\n",
       "    .dataframe tbody tr th {\n",
       "        vertical-align: top;\n",
       "    }\n",
       "\n",
       "    .dataframe thead th {\n",
       "        text-align: right;\n",
       "    }\n",
       "</style>\n",
       "<table border=\"1\" class=\"dataframe\">\n",
       "  <thead>\n",
       "    <tr style=\"text-align: right;\">\n",
       "      <th></th>\n",
       "      <th>Country</th>\n",
       "      <th>GDP Per Capita</th>\n",
       "      <th>Technology</th>\n",
       "      <th>Human Capital</th>\n",
       "      <th>Institutional Framework</th>\n",
       "      <th>Sustainable Resources</th>\n",
       "      <th>Demand Environment</th>\n",
       "      <th>Education</th>\n",
       "      <th>Happiness</th>\n",
       "      <th>Unemployment Rate</th>\n",
       "      <th>Population</th>\n",
       "      <th>Import Degree</th>\n",
       "      <th>Import Eigenvector</th>\n",
       "      <th>Import Betweenness</th>\n",
       "      <th>Export Degree</th>\n",
       "      <th>Export Eigenvector</th>\n",
       "      <th>Export Betweenness</th>\n",
       "      <th>Location</th>\n",
       "    </tr>\n",
       "  </thead>\n",
       "  <tbody>\n",
       "    <tr>\n",
       "      <th>0</th>\n",
       "      <td>Albania</td>\n",
       "      <td>5260.9</td>\n",
       "      <td>3.40</td>\n",
       "      <td>4.62</td>\n",
       "      <td>4.70</td>\n",
       "      <td>6.19</td>\n",
       "      <td>3.16</td>\n",
       "      <td>1153</td>\n",
       "      <td>4.719</td>\n",
       "      <td>0.120</td>\n",
       "      <td>2880248</td>\n",
       "      <td>0</td>\n",
       "      <td>0.000000</td>\n",
       "      <td>0.000000</td>\n",
       "      <td>0</td>\n",
       "      <td>0.000000</td>\n",
       "      <td>0.000000</td>\n",
       "      <td>Europe</td>\n",
       "    </tr>\n",
       "    <tr>\n",
       "      <th>1</th>\n",
       "      <td>Algeria</td>\n",
       "      <td>4449.8</td>\n",
       "      <td>2.97</td>\n",
       "      <td>3.58</td>\n",
       "      <td>3.60</td>\n",
       "      <td>5.36</td>\n",
       "      <td>5.00</td>\n",
       "      <td>1086</td>\n",
       "      <td>5.211</td>\n",
       "      <td>0.117</td>\n",
       "      <td>43216262</td>\n",
       "      <td>3</td>\n",
       "      <td>0.022113</td>\n",
       "      <td>0.000000</td>\n",
       "      <td>3</td>\n",
       "      <td>0.029143</td>\n",
       "      <td>0.000000</td>\n",
       "      <td>Africa</td>\n",
       "    </tr>\n",
       "    <tr>\n",
       "      <th>2</th>\n",
       "      <td>Argentina</td>\n",
       "      <td>10667.1</td>\n",
       "      <td>3.78</td>\n",
       "      <td>4.94</td>\n",
       "      <td>4.16</td>\n",
       "      <td>5.84</td>\n",
       "      <td>4.99</td>\n",
       "      <td>1187</td>\n",
       "      <td>6.086</td>\n",
       "      <td>0.101</td>\n",
       "      <td>44866075</td>\n",
       "      <td>6</td>\n",
       "      <td>0.043574</td>\n",
       "      <td>0.000000</td>\n",
       "      <td>4</td>\n",
       "      <td>0.038238</td>\n",
       "      <td>0.000000</td>\n",
       "      <td>South America</td>\n",
       "    </tr>\n",
       "    <tr>\n",
       "      <th>3</th>\n",
       "      <td>Armenia</td>\n",
       "      <td>4190.2</td>\n",
       "      <td>3.53</td>\n",
       "      <td>5.07</td>\n",
       "      <td>4.93</td>\n",
       "      <td>5.85</td>\n",
       "      <td>3.68</td>\n",
       "      <td>1345</td>\n",
       "      <td>4.559</td>\n",
       "      <td>0.169</td>\n",
       "      <td>2958996</td>\n",
       "      <td>0</td>\n",
       "      <td>0.000000</td>\n",
       "      <td>0.000000</td>\n",
       "      <td>0</td>\n",
       "      <td>0.000000</td>\n",
       "      <td>0.000000</td>\n",
       "      <td>Middle East</td>\n",
       "    </tr>\n",
       "    <tr>\n",
       "      <th>4</th>\n",
       "      <td>Australia</td>\n",
       "      <td>56698.1</td>\n",
       "      <td>6.91</td>\n",
       "      <td>7.41</td>\n",
       "      <td>8.32</td>\n",
       "      <td>6.47</td>\n",
       "      <td>5.78</td>\n",
       "      <td>1556</td>\n",
       "      <td>7.228</td>\n",
       "      <td>0.052</td>\n",
       "      <td>25265536</td>\n",
       "      <td>20</td>\n",
       "      <td>0.098483</td>\n",
       "      <td>0.003389</td>\n",
       "      <td>21</td>\n",
       "      <td>0.129649</td>\n",
       "      <td>0.003652</td>\n",
       "      <td>Oceania</td>\n",
       "    </tr>\n",
       "  </tbody>\n",
       "</table>\n",
       "</div>"
      ],
      "text/plain": [
       "     Country  GDP Per Capita  Technology  Human Capital  \\\n",
       "0    Albania          5260.9        3.40           4.62   \n",
       "1    Algeria          4449.8        2.97           3.58   \n",
       "2  Argentina         10667.1        3.78           4.94   \n",
       "3    Armenia          4190.2        3.53           5.07   \n",
       "4  Australia         56698.1        6.91           7.41   \n",
       "\n",
       "   Institutional Framework  Sustainable Resources  Demand Environment  \\\n",
       "0                     4.70                   6.19                3.16   \n",
       "1                     3.60                   5.36                5.00   \n",
       "2                     4.16                   5.84                4.99   \n",
       "3                     4.93                   5.85                3.68   \n",
       "4                     8.32                   6.47                5.78   \n",
       "\n",
       "   Education  Happiness  Unemployment Rate  Population  Import Degree  \\\n",
       "0       1153      4.719              0.120     2880248              0   \n",
       "1       1086      5.211              0.117    43216262              3   \n",
       "2       1187      6.086              0.101    44866075              6   \n",
       "3       1345      4.559              0.169     2958996              0   \n",
       "4       1556      7.228              0.052    25265536             20   \n",
       "\n",
       "   Import Eigenvector  Import Betweenness  Export Degree  Export Eigenvector  \\\n",
       "0            0.000000            0.000000              0            0.000000   \n",
       "1            0.022113            0.000000              3            0.029143   \n",
       "2            0.043574            0.000000              4            0.038238   \n",
       "3            0.000000            0.000000              0            0.000000   \n",
       "4            0.098483            0.003389             21            0.129649   \n",
       "\n",
       "   Export Betweenness       Location  \n",
       "0            0.000000         Europe  \n",
       "1            0.000000         Africa  \n",
       "2            0.000000  South America  \n",
       "3            0.000000    Middle East  \n",
       "4            0.003652        Oceania  "
      ]
     },
     "execution_count": 2,
     "metadata": {},
     "output_type": "execute_result"
    }
   ],
   "source": [
    "df = pd.read_csv('C:\\\\Users\\\\Ufuk Altan\\\\Downloads\\\\Downloads\\\\Data Science\\\\I Dati\\\\Prosperity.csv')\n",
    "df.head()"
   ]
  },
  {
   "cell_type": "code",
   "execution_count": 3,
   "metadata": {},
   "outputs": [],
   "source": [
    "def percentage_error(dataframe,pred, true_value):\n",
    "    \n",
    "    '''\n",
    "    dataframe: Pass in pandas dataframe variable\n",
    "    pred = 'Predictions' #model.predict(x_test).reshape()\n",
    "    true_value = 'True Values' #y_test\n",
    "    \n",
    "    '''\n",
    "    \n",
    "    difference = dataframe[true_value] - dataframe[pred]\n",
    "    \n",
    "    dataframe['Error(%)']= np.absolute(difference/dataframe[true_value]*100)\n",
    "    \n",
    "    print('median \\t {}'.format(dataframe['Error(%)'].median()))    \n",
    "    print(dataframe['Error(%)'].describe())\n",
    "    \n",
    "def adjusted_r_squared(r2, data):\n",
    "    \n",
    "    x = (1-r2)*(data.shape[0]-1)/(data.shape[0]-data.shape[1]-1) \n",
    "    \n",
    "    return 1-x"
   ]
  },
  {
   "cell_type": "code",
   "execution_count": 4,
   "metadata": {},
   "outputs": [],
   "source": [
    "cols = ['Technology', 'Human Capital',\n",
    "       'Institutional Framework', 'Sustainable Resources',\n",
    "       'Demand Environment', 'Education', 'Happiness', 'Unemployment Rate',\n",
    "       'Population', \n",
    "       'Export Eigenvector',\n",
    "       'Location',\n",
    "        'GDP Per Capita']\n",
    "\n",
    "df = df[cols]"
   ]
  },
  {
   "cell_type": "code",
   "execution_count": 5,
   "metadata": {},
   "outputs": [],
   "source": [
    "X = df.drop(['GDP Per Capita', 'Technology'], axis =1)\n",
    "y = df[['GDP Per Capita', 'Technology']]"
   ]
  },
  {
   "cell_type": "code",
   "execution_count": 6,
   "metadata": {},
   "outputs": [],
   "source": [
    "X = pd.get_dummies(X)\n",
    "X.drop('Location_Europe', inplace = True, axis =1)"
   ]
  },
  {
   "cell_type": "code",
   "execution_count": 7,
   "metadata": {},
   "outputs": [],
   "source": [
    "from sklearn.model_selection import train_test_split\n",
    "X_train, X_test, y_train, y_test = train_test_split(X, y, random_state=0, test_size=0.15 ) "
   ]
  },
  {
   "cell_type": "code",
   "execution_count": 8,
   "metadata": {},
   "outputs": [],
   "source": [
    "from sklearn.preprocessing import StandardScaler\n",
    "sc = StandardScaler()\n",
    "X_train = sc.fit_transform(X_train)\n",
    "X_test = sc.transform(X_test)"
   ]
  },
  {
   "cell_type": "code",
   "execution_count": 10,
   "metadata": {},
   "outputs": [
    {
     "name": "stdout",
     "output_type": "stream",
     "text": [
      "[12:41:00] WARNING: C:/Users/Administrator/workspace/xgboost-win64_release_1.2.0/src/objective/regression_obj.cu:174: reg:linear is now deprecated in favor of reg:squarederror.\n",
      "[12:41:00] WARNING: C:/Users/Administrator/workspace/xgboost-win64_release_1.2.0/src/objective/regression_obj.cu:174: reg:linear is now deprecated in favor of reg:squarederror.\n",
      "[12:41:00] WARNING: C:/Users/Administrator/workspace/xgboost-win64_release_1.2.0/src/objective/regression_obj.cu:174: reg:linear is now deprecated in favor of reg:squarederror.\n",
      "[12:41:00] WARNING: C:/Users/Administrator/workspace/xgboost-win64_release_1.2.0/src/objective/regression_obj.cu:174: reg:linear is now deprecated in favor of reg:squarederror.\n"
     ]
    },
    {
     "data": {
      "text/plain": [
       "MultiOutputRegressor(estimator=XGBRegressor(base_score=None, booster=None,\n",
       "                                            colsample_bylevel=None,\n",
       "                                            colsample_bynode=None,\n",
       "                                            colsample_bytree=None, gamma=None,\n",
       "                                            gpu_id=None, importance_type='gain',\n",
       "                                            interaction_constraints=None,\n",
       "                                            learning_rate=None,\n",
       "                                            max_delta_step=None, max_depth=None,\n",
       "                                            min_child_weight=None, missing=nan,\n",
       "                                            monotone_constraints=None,\n",
       "                                            n_estimators=100, n_jobs=None,\n",
       "                                            num_parallel_tree=None,\n",
       "                                            objective='reg:linear',\n",
       "                                            random_state=0, reg_alpha=None,\n",
       "                                            reg_lambda=None,\n",
       "                                            scale_pos_weight=None,\n",
       "                                            subsample=None, tree_method=None,\n",
       "                                            validate_parameters=None,\n",
       "                                            verbosity=None))"
      ]
     },
     "execution_count": 10,
     "metadata": {},
     "output_type": "execute_result"
    }
   ],
   "source": [
    "from xgboost import XGBRegressor\n",
    "from sklearn.multioutput import MultiOutputRegressor\n",
    "\n",
    "xgbRegressor = XGBRegressor(objective=\"reg:linear\", random_state=0) #\"reg:squarederror\"\n",
    "\n",
    "model = MultiOutputRegressor(xgbRegressor)\n",
    "model.fit(X_train, y_train)"
   ]
  },
  {
   "cell_type": "code",
   "execution_count": 11,
   "metadata": {},
   "outputs": [],
   "source": [
    "y_pred = model.predict(X_test)"
   ]
  },
  {
   "cell_type": "code",
   "execution_count": 20,
   "metadata": {},
   "outputs": [
    {
     "data": {
      "text/plain": [
       "array([ 4626.861 , 74793.94  , 17780.947 , 24063.389 , 15580.574 ,\n",
       "       10679.232 , 58140.434 , 18128.352 ,  4871.7095, 59072.71  ,\n",
       "       16085.807 ,  1417.556 ,  2452.3887,  8308.295 , 23573.836 ],\n",
       "      dtype=float32)"
      ]
     },
     "execution_count": 20,
     "metadata": {},
     "output_type": "execute_result"
    }
   ],
   "source": [
    "y_pred[:,0]"
   ]
  },
  {
   "cell_type": "code",
   "execution_count": 19,
   "metadata": {},
   "outputs": [
    {
     "data": {
      "text/plain": [
       "array([ 6301.1, 53867.2, 10667.1, 18856.9, 12189.5,  2964.2, 46733. ,\n",
       "       23175.8, 12453.7, 42260.9, 17634.4,   717.5,  1485.4,  9080.3,\n",
       "       26531.8])"
      ]
     },
     "execution_count": 19,
     "metadata": {},
     "output_type": "execute_result"
    }
   ],
   "source": [
    "y_test.values[:,0]"
   ]
  },
  {
   "cell_type": "code",
   "execution_count": 21,
   "metadata": {},
   "outputs": [],
   "source": [
    "test0 = pd.DataFrame()\n",
    "test0['TrueValues'] = y_test.values[:,0]\n",
    "test0['Predictions'] = y_pred[:,0]"
   ]
  },
  {
   "cell_type": "code",
   "execution_count": 22,
   "metadata": {},
   "outputs": [
    {
     "name": "stdout",
     "output_type": "stream",
     "text": [
      "median \t 27.819633444768037\n",
      "count     15.000000\n",
      "mean      52.384314\n",
      "std       62.775220\n",
      "min        8.501978\n",
      "25%       23.094382\n",
      "50%       27.819633\n",
      "75%       62.990488\n",
      "max      260.273680\n",
      "Name: Error(%), dtype: float64\n"
     ]
    }
   ],
   "source": [
    "percentage_error(test0, 'Predictions', 'TrueValues')"
   ]
  },
  {
   "cell_type": "code",
   "execution_count": 23,
   "metadata": {},
   "outputs": [],
   "source": [
    "test1 = pd.DataFrame()\n",
    "test1['TrueValues'] = y_test.values[:,1]\n",
    "test1['Predictions'] = y_pred[:,1]"
   ]
  },
  {
   "cell_type": "code",
   "execution_count": 24,
   "metadata": {},
   "outputs": [
    {
     "name": "stdout",
     "output_type": "stream",
     "text": [
      "median \t 5.743398122001139\n",
      "count    15.000000\n",
      "mean      7.624738\n",
      "std       7.606796\n",
      "min       0.904582\n",
      "25%       2.364778\n",
      "50%       5.743398\n",
      "75%       9.485995\n",
      "max      27.103200\n",
      "Name: Error(%), dtype: float64\n"
     ]
    }
   ],
   "source": [
    "percentage_error(test1, 'Predictions', 'TrueValues')"
   ]
  },
  {
   "cell_type": "code",
   "execution_count": null,
   "metadata": {},
   "outputs": [],
   "source": []
  }
 ],
 "metadata": {
  "kernelspec": {
   "display_name": "Python 3",
   "language": "python",
   "name": "python3"
  },
  "language_info": {
   "codemirror_mode": {
    "name": "ipython",
    "version": 3
   },
   "file_extension": ".py",
   "mimetype": "text/x-python",
   "name": "python",
   "nbconvert_exporter": "python",
   "pygments_lexer": "ipython3",
   "version": "3.7.3"
  }
 },
 "nbformat": 4,
 "nbformat_minor": 4
}
